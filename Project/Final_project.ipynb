{
 "cells": [
  {
   "cell_type": "markdown",
   "metadata": {},
   "source": [
    "# <center> CSC17104-FINAL PROJECT </center>"
   ]
  },
  {
   "cell_type": "markdown",
   "metadata": {},
   "source": [
    "## Mục lục\n",
    "- [I. Thông tin nhóm](#i)\n",
    "- [II. Thu thập dữ liệu](#ii)\n",
    "    - [1. Chủ đề](#ii1)\n",
    "    - [2. Nguồn dữ liệu](#ii2)\n",
    "    - [3. Cách thu thập](#ii3)\n",
    "- [III. Khám phá dữ liệu](#iii)\n",
    "- [IV. Đặt câu hỏi có ý nghĩa và trả lời](#iv)\n",
    "    - [1. Câu hỏi 1](#iv1)\n",
    "    - [2. Câu hỏi 2](#iv2)\n",
    "    - [3. Câu hỏi 3](#iv3)\n",
    "- [V. Nhận xét quá trình làm đồ án](#v)\n",
    "    - [1. Thành viên 1](#v1)\n",
    "    - [2. Thành viên 2](#v2)\n",
    "    - [3. Thành viên 3](#v3)\n",
    "    - [4. Ý kiến nhóm](#v4)\n",
    "- [Tài liệu tham khảo](#tltk)"
   ]
  },
  {
   "cell_type": "markdown",
   "metadata": {},
   "source": [
    "## I. Thông tin nhóm <a id=\"i\"></a>"
   ]
  },
  {
   "cell_type": "markdown",
   "metadata": {},
   "source": [
    "| Họ tên                | MSSV              | Công việc | Hoàn thành(%)|\n",
    "|-----------------------|-------------------|-----------|--------------|\n",
    "|Nguyễn Ngọc Minh Anh      |   22127023        |           | 100%         |\n",
    "|Nguyễn Đức Hưng      |   22127142        |           | 100%         |\n",
    "|Lê Huỳnh Nhật Hưng      |   22127140        |           | 100%         |"
   ]
  },
  {
   "cell_type": "markdown",
   "metadata": {},
   "source": [
    "## II. Thu thập dữ liệu <a id=\"ii\"></a>"
   ]
  },
  {
   "cell_type": "markdown",
   "metadata": {},
   "source": [
    "### 1. Chủ đề <a id=\"ii1\"></a>"
   ]
  },
  {
   "cell_type": "markdown",
   "metadata": {},
   "source": [
    "### 2. Nguồn dữ liệu <a id=\"ii2\"></a>"
   ]
  },
  {
   "cell_type": "markdown",
   "metadata": {},
   "source": [
    "### 3. Cách thu thập <a id=\"ii3\"></a>"
   ]
  },
  {
   "cell_type": "markdown",
   "metadata": {},
   "source": [
    "## III. Khám phá dữ liệu  <a id=\"iii\"></a>"
   ]
  },
  {
   "cell_type": "markdown",
   "metadata": {},
   "source": [
    "## IV. Đặt câu hỏi có ý nghĩa và trả lời  <a id=\"iv\"></a>"
   ]
  },
  {
   "cell_type": "markdown",
   "metadata": {},
   "source": [
    "### 1. Câu hỏi 1 <a id=\"iv1\"></a>"
   ]
  },
  {
   "cell_type": "markdown",
   "metadata": {},
   "source": [
    "### 2. Câu hỏi 2 <a id=\"iv2\"></a>"
   ]
  },
  {
   "cell_type": "markdown",
   "metadata": {},
   "source": [
    "### 3. Câu hỏi 3 <a id=\"iv3\"></a>"
   ]
  },
  {
   "cell_type": "markdown",
   "metadata": {},
   "source": [
    "## V. Nhận xét quá trình làm đồ án  <a id=\"v\"></a>"
   ]
  },
  {
   "cell_type": "markdown",
   "metadata": {},
   "source": [
    "### 1. Thành viên 1 <a id=\"v1\"></a>"
   ]
  },
  {
   "cell_type": "markdown",
   "metadata": {},
   "source": [
    "### 2. Thành viên 2 <a id=\"v2\"></a>"
   ]
  },
  {
   "cell_type": "markdown",
   "metadata": {},
   "source": [
    "### 3. Thành viên 3 <a id=\"v3\"></a>"
   ]
  },
  {
   "cell_type": "markdown",
   "metadata": {},
   "source": [
    "### 4. Ý kiến nhóm <a id=\"v4\"></a>"
   ]
  },
  {
   "cell_type": "markdown",
   "metadata": {},
   "source": [
    "## Tài liệu tham khảo  <a id=\"tltk\"></a>"
   ]
  }
 ],
 "metadata": {
  "kernelspec": {
   "display_name": "base",
   "language": "python",
   "name": "python3"
  },
  "language_info": {
   "name": "python",
   "version": "3.11.7"
  }
 },
 "nbformat": 4,
 "nbformat_minor": 2
}
