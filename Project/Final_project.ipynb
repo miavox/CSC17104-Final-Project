{
 "cells": [
  {
   "cell_type": "markdown",
   "metadata": {},
   "source": [
    "# <center> CSC17104-FINAL PROJECT </center>"
   ]
  },
  {
   "cell_type": "markdown",
   "metadata": {},
   "source": [
    "## Mục lục\n",
    "- [I. Thông tin nhóm](#i)\n",
    "- [II. Thu thập dữ liệu](#ii)\n",
    "    - [1. Chủ đề](#ii1)\n",
    "    - [2. Nguồn dữ liệu](#ii2)\n",
    "    - [3. Cách thu thập](#ii3)\n",
    "- [III. Khám phá dữ liệu](#iii)\n",
    "    - [1. Mô tả dữ liệu](#iii1)\n",
    "    - [2. Tiền xử lí dữ liệu](#iii2)\n",
    "- [IV. Đặt câu hỏi có ý nghĩa và trả lời](#iv)\n",
    "    - [1. Câu hỏi 1](#iv1)\n",
    "    - [2. Câu hỏi 2](#iv2)\n",
    "    - [3. Câu hỏi 3](#iv3)\n",
    "- [V. Nhận xét quá trình làm đồ án](#v)\n",
    "    - [1. Thành viên 1](#v1)\n",
    "    - [2. Thành viên 2](#v2)\n",
    "    - [3. Thành viên 3](#v3)\n",
    "    - [4. Ý kiến nhóm](#v4)\n",
    "- [Tài liệu tham khảo](#tltk)"
   ]
  },
  {
   "cell_type": "markdown",
   "metadata": {},
   "source": [
    "## I. Thông tin nhóm <a id=\"i\"></a>"
   ]
  },
  {
   "cell_type": "markdown",
   "metadata": {},
   "source": [
    "| Họ tên                | MSSV              | Công việc | Hoàn thành(%)|\n",
    "|-----------------------|-------------------|-----------|--------------|\n",
    "|Nguyễn Ngọc Minh Anh      |   22127023        |           | 100%         |\n",
    "|Nguyễn Đức Hưng      |   22127142        |           | 100%         |\n",
    "|Lê Huỳnh Nhật Hưng      |   22127140        |           | 100%         |"
   ]
  },
  {
   "cell_type": "markdown",
   "metadata": {},
   "source": [
    "## II. Thu thập dữ liệu <a id=\"ii\"></a>"
   ]
  },
  {
   "cell_type": "markdown",
   "metadata": {},
   "source": [
    "### 1. Chủ đề <a id=\"ii1\"></a>"
   ]
  },
  {
   "cell_type": "markdown",
   "metadata": {},
   "source": [
    "Chúng em lựa chọn dataset về phim gồm các thông tin như đánh giá phim(ratings.csv), thể loại phim(movies.csv), nhãn(tags.csv)."
   ]
  },
  {
   "cell_type": "markdown",
   "metadata": {},
   "source": [
    "### 2. Nguồn dữ liệu <a id=\"ii2\"></a>"
   ]
  },
  {
   "cell_type": "markdown",
   "metadata": {},
   "source": [
    "Dữ liệu mà chúng em sử dụng được lấy tập dữ liệu MovieLens từ trang GroupLens [link](https://grouplens.org/datasets/movielens/?fbclid=IwY2xjawHHjY5leHRuA2FlbQIxMAABHSNdVj6x86bIVx6UppaMq3AIINmbUwp3eTaUITt07DCsZfCtGnjp19zvNQ_aem_bWp2xc35td5tb09lVpc4yw). GroupLens nổi tiếng với các nghiên cứu về hệ thống gợi ý và cung cấp các tập dữ liệu phổ biến cho cộng đồng nghiên cứu.\n",
    "\n",
    "Dữ liệu chúng em sử dụng được tác giả thu thập bằng cách chọn ngẫu nhiên người dùng để đưa vào. Tất cả người dùng được chọn đều đã đánh giá ít nhất 20 bộ phim trên website [link](https://movielens.org/). Không có thông tin nhân khẩu học nào được đưa vào. Mỗi người dùng được biểu thị bằng một id và không cung cấp thông tin nào khác. \n",
    "\n",
    "Dữ liệu này là dữ liệu được cập nhật theo thời gian để phù hợp với việc học, nghiên cứu nên có thể sẽ không còn đúng trong tương lai. Ở đây nhóm chúng em đã tải bản được cập nhật cuối cùng vào tháng 9 năm 2018.\n",
    "\n",
    "Khi tải dataset này về đồng nghĩa với việc chúng em đã chấp nhận điều khoản sử dụng của GroupLens(không cho phép chia sẻ lại công khai, không dùng cho mục đích thương mại,...) đã được nêu trong phần đầu của tệp tin README.txt.\n",
    "\n",
    "Ở đây, chúng em dùng dataset được khuyến khích cho học tập, chúng em lựa chọn tập có quy mô nhỏ với khoảng hơn 3MB. Và vì chúng em tập trung vào đặt câu hỏi, phân tích mối liên hệ giữa lượt đánh giá, thể loại phim, nhãn của phim nên có lẽ chúng em sẽ không xem xét đến tệp tin links.csv"
   ]
  },
  {
   "cell_type": "markdown",
   "metadata": {},
   "source": [
    "### 3. Cách thu thập <a id=\"ii3\"></a>"
   ]
  },
  {
   "cell_type": "markdown",
   "metadata": {},
   "source": [
    "Chúng em tải tệp dữ liệu đã nén từ website của GroupLens mà tụi em đã đề cấp ở phần trên."
   ]
  },
  {
   "cell_type": "markdown",
   "metadata": {},
   "source": [
    "## III. Khám phá dữ liệu  <a id=\"iii\"></a>"
   ]
  },
  {
   "cell_type": "markdown",
   "metadata": {},
   "source": [
    "### 1. Mô tả dữ liệu <a id=\"iii1\"></a>"
   ]
  },
  {
   "cell_type": "markdown",
   "metadata": {},
   "source": [
    "Phần mô tả dữ liệu nằm trong Data/README.txt, và chúng em có tóm tắt lại như sau:\n",
    " \n",
    "- ratings.csv:\n",
    "    - userId: Id ngẫu nhiên được tạo để ẩn đi danh tính thật của người dùng đưa vào, định danh(trong dataset) cho mỗi người dùng.\n",
    "    - movieId: Id để định danh phim.\n",
    "    - rating: đánh giá trên thang 5, nhỏ nhất là 0.5 (0.5 - 5).\n",
    "    - timestamp: số giây(khi thực hiện đánh giá) tính từ nửa đêm của Coordinated Universal Time (UTC) của  ngày 1 tháng 1 năm 1970.\n",
    "- tags.csv:\n",
    "    - userId: Id ngẫu nhiên được tạo để ẩn đi danh tính thật của người dùng đưa vào, định danh(trong dataset) cho mỗi người dùng.\n",
    "    - movieId: Id để định danh phim.\n",
    "    - tag: nhãn dán mà người dùng tìm trước khi chọn phim(1 dạng đánh giá của người dùng về phim).\n",
    "    - timestamp: số giây(khi thực hiện đánh giá) tính từ nửa đêm của Coordinated Universal Time (UTC) của  ngày 1 tháng 1 năm 1970.\n",
    "- movies.csv:\n",
    "    - movieId: Id để định danh phim.\n",
    "    - title: Tên phim\n",
    "    - genre: Thể loại của phim"
   ]
  },
  {
   "cell_type": "markdown",
   "metadata": {},
   "source": [
    "### 2. Tiền xử lí dữ liệu <a id=\"iii2\"></a>"
   ]
  },
  {
   "cell_type": "markdown",
   "metadata": {},
   "source": [
    "#### Đọc dữ liệu\n",
    "\n",
    "Như đã đề cập, ở phạm vi đồ án này, chúng em sẽ không quan tâm đến dữ liệu trong tệp links.csv nên đầu tiên, chúng em sẽ đọc dữ liệu 3 tệp tin còn lại"
   ]
  },
  {
   "cell_type": "code",
   "execution_count": 1,
   "metadata": {},
   "outputs": [],
   "source": [
    "import pandas as pd\n"
   ]
  },
  {
   "cell_type": "code",
   "execution_count": 2,
   "metadata": {},
   "outputs": [
    {
     "data": {
      "text/html": [
       "<div>\n",
       "<style scoped>\n",
       "    .dataframe tbody tr th:only-of-type {\n",
       "        vertical-align: middle;\n",
       "    }\n",
       "\n",
       "    .dataframe tbody tr th {\n",
       "        vertical-align: top;\n",
       "    }\n",
       "\n",
       "    .dataframe thead th {\n",
       "        text-align: right;\n",
       "    }\n",
       "</style>\n",
       "<table border=\"1\" class=\"dataframe\">\n",
       "  <thead>\n",
       "    <tr style=\"text-align: right;\">\n",
       "      <th></th>\n",
       "      <th>movieId</th>\n",
       "      <th>title</th>\n",
       "      <th>genres</th>\n",
       "    </tr>\n",
       "  </thead>\n",
       "  <tbody>\n",
       "    <tr>\n",
       "      <th>0</th>\n",
       "      <td>1</td>\n",
       "      <td>Toy Story (1995)</td>\n",
       "      <td>Adventure|Animation|Children|Comedy|Fantasy</td>\n",
       "    </tr>\n",
       "    <tr>\n",
       "      <th>1</th>\n",
       "      <td>2</td>\n",
       "      <td>Jumanji (1995)</td>\n",
       "      <td>Adventure|Children|Fantasy</td>\n",
       "    </tr>\n",
       "    <tr>\n",
       "      <th>2</th>\n",
       "      <td>3</td>\n",
       "      <td>Grumpier Old Men (1995)</td>\n",
       "      <td>Comedy|Romance</td>\n",
       "    </tr>\n",
       "    <tr>\n",
       "      <th>3</th>\n",
       "      <td>4</td>\n",
       "      <td>Waiting to Exhale (1995)</td>\n",
       "      <td>Comedy|Drama|Romance</td>\n",
       "    </tr>\n",
       "    <tr>\n",
       "      <th>4</th>\n",
       "      <td>5</td>\n",
       "      <td>Father of the Bride Part II (1995)</td>\n",
       "      <td>Comedy</td>\n",
       "    </tr>\n",
       "  </tbody>\n",
       "</table>\n",
       "</div>"
      ],
      "text/plain": [
       "   movieId                               title  \\\n",
       "0        1                    Toy Story (1995)   \n",
       "1        2                      Jumanji (1995)   \n",
       "2        3             Grumpier Old Men (1995)   \n",
       "3        4            Waiting to Exhale (1995)   \n",
       "4        5  Father of the Bride Part II (1995)   \n",
       "\n",
       "                                        genres  \n",
       "0  Adventure|Animation|Children|Comedy|Fantasy  \n",
       "1                   Adventure|Children|Fantasy  \n",
       "2                               Comedy|Romance  \n",
       "3                         Comedy|Drama|Romance  \n",
       "4                                       Comedy  "
      ]
     },
     "execution_count": 2,
     "metadata": {},
     "output_type": "execute_result"
    }
   ],
   "source": [
    "movies = pd.read_csv('../Data/movies.csv')\n",
    "movies.head(5)"
   ]
  },
  {
   "cell_type": "code",
   "execution_count": 3,
   "metadata": {},
   "outputs": [
    {
     "data": {
      "text/html": [
       "<div>\n",
       "<style scoped>\n",
       "    .dataframe tbody tr th:only-of-type {\n",
       "        vertical-align: middle;\n",
       "    }\n",
       "\n",
       "    .dataframe tbody tr th {\n",
       "        vertical-align: top;\n",
       "    }\n",
       "\n",
       "    .dataframe thead th {\n",
       "        text-align: right;\n",
       "    }\n",
       "</style>\n",
       "<table border=\"1\" class=\"dataframe\">\n",
       "  <thead>\n",
       "    <tr style=\"text-align: right;\">\n",
       "      <th></th>\n",
       "      <th>userId</th>\n",
       "      <th>movieId</th>\n",
       "      <th>rating</th>\n",
       "      <th>timestamp</th>\n",
       "    </tr>\n",
       "  </thead>\n",
       "  <tbody>\n",
       "    <tr>\n",
       "      <th>0</th>\n",
       "      <td>1</td>\n",
       "      <td>1</td>\n",
       "      <td>4.0</td>\n",
       "      <td>964982703</td>\n",
       "    </tr>\n",
       "    <tr>\n",
       "      <th>1</th>\n",
       "      <td>1</td>\n",
       "      <td>3</td>\n",
       "      <td>4.0</td>\n",
       "      <td>964981247</td>\n",
       "    </tr>\n",
       "    <tr>\n",
       "      <th>2</th>\n",
       "      <td>1</td>\n",
       "      <td>6</td>\n",
       "      <td>4.0</td>\n",
       "      <td>964982224</td>\n",
       "    </tr>\n",
       "    <tr>\n",
       "      <th>3</th>\n",
       "      <td>1</td>\n",
       "      <td>47</td>\n",
       "      <td>5.0</td>\n",
       "      <td>964983815</td>\n",
       "    </tr>\n",
       "    <tr>\n",
       "      <th>4</th>\n",
       "      <td>1</td>\n",
       "      <td>50</td>\n",
       "      <td>5.0</td>\n",
       "      <td>964982931</td>\n",
       "    </tr>\n",
       "  </tbody>\n",
       "</table>\n",
       "</div>"
      ],
      "text/plain": [
       "   userId  movieId  rating  timestamp\n",
       "0       1        1     4.0  964982703\n",
       "1       1        3     4.0  964981247\n",
       "2       1        6     4.0  964982224\n",
       "3       1       47     5.0  964983815\n",
       "4       1       50     5.0  964982931"
      ]
     },
     "execution_count": 3,
     "metadata": {},
     "output_type": "execute_result"
    }
   ],
   "source": [
    "ratings = pd.read_csv('../Data/ratings.csv')\n",
    "ratings.head(5)"
   ]
  },
  {
   "cell_type": "code",
   "execution_count": 4,
   "metadata": {},
   "outputs": [
    {
     "data": {
      "text/html": [
       "<div>\n",
       "<style scoped>\n",
       "    .dataframe tbody tr th:only-of-type {\n",
       "        vertical-align: middle;\n",
       "    }\n",
       "\n",
       "    .dataframe tbody tr th {\n",
       "        vertical-align: top;\n",
       "    }\n",
       "\n",
       "    .dataframe thead th {\n",
       "        text-align: right;\n",
       "    }\n",
       "</style>\n",
       "<table border=\"1\" class=\"dataframe\">\n",
       "  <thead>\n",
       "    <tr style=\"text-align: right;\">\n",
       "      <th></th>\n",
       "      <th>userId</th>\n",
       "      <th>movieId</th>\n",
       "      <th>tag</th>\n",
       "      <th>timestamp</th>\n",
       "    </tr>\n",
       "  </thead>\n",
       "  <tbody>\n",
       "    <tr>\n",
       "      <th>0</th>\n",
       "      <td>2</td>\n",
       "      <td>60756</td>\n",
       "      <td>funny</td>\n",
       "      <td>1445714994</td>\n",
       "    </tr>\n",
       "    <tr>\n",
       "      <th>1</th>\n",
       "      <td>2</td>\n",
       "      <td>60756</td>\n",
       "      <td>Highly quotable</td>\n",
       "      <td>1445714996</td>\n",
       "    </tr>\n",
       "    <tr>\n",
       "      <th>2</th>\n",
       "      <td>2</td>\n",
       "      <td>60756</td>\n",
       "      <td>will ferrell</td>\n",
       "      <td>1445714992</td>\n",
       "    </tr>\n",
       "    <tr>\n",
       "      <th>3</th>\n",
       "      <td>2</td>\n",
       "      <td>89774</td>\n",
       "      <td>Boxing story</td>\n",
       "      <td>1445715207</td>\n",
       "    </tr>\n",
       "    <tr>\n",
       "      <th>4</th>\n",
       "      <td>2</td>\n",
       "      <td>89774</td>\n",
       "      <td>MMA</td>\n",
       "      <td>1445715200</td>\n",
       "    </tr>\n",
       "  </tbody>\n",
       "</table>\n",
       "</div>"
      ],
      "text/plain": [
       "   userId  movieId              tag   timestamp\n",
       "0       2    60756            funny  1445714994\n",
       "1       2    60756  Highly quotable  1445714996\n",
       "2       2    60756     will ferrell  1445714992\n",
       "3       2    89774     Boxing story  1445715207\n",
       "4       2    89774              MMA  1445715200"
      ]
     },
     "execution_count": 4,
     "metadata": {},
     "output_type": "execute_result"
    }
   ],
   "source": [
    "tags = pd.read_csv('../Data/tags.csv')\n",
    "tags.head(5)"
   ]
  },
  {
   "cell_type": "markdown",
   "metadata": {},
   "source": [
    "#### Hiểu dữ liệu\n",
    "\n",
    "Sau khi đã đọc xong, chúng em sẽ bắt đầu xem xét dữ liệu về số dòng, cột, ý nghĩa của chúng,..."
   ]
  },
  {
   "cell_type": "markdown",
   "metadata": {},
   "source": [
    "##### Dữ liệu có bao nhiêu dòng, bao nhiêu cột? Ý nghĩa của mỗi dòng, mỗi cột?"
   ]
  },
  {
   "cell_type": "code",
   "execution_count": 5,
   "metadata": {},
   "outputs": [
    {
     "name": "stdout",
     "output_type": "stream",
     "text": [
      "Movie: (9742, 3)\n",
      "Rating: (100836, 4)\n",
      "Tag: (3683, 4)\n"
     ]
    }
   ],
   "source": [
    "movies_shape = movies.shape\n",
    "ratings_shape = ratings.shape\n",
    "tags_shape = tags.shape\n",
    "print(\"Movie:\", movies_shape)\n",
    "print(\"Rating:\", ratings_shape)\n",
    "print(\"Tag:\", tags_shape)"
   ]
  },
  {
   "cell_type": "markdown",
   "metadata": {},
   "source": [
    "Kích thước của các dataframe cũng khá vừa phải, cụ thể với:\n",
    "\n",
    "- `ratings` (phần chính mà chúng ta sẽ quan tâm) có 100836 dòng và 4 cột. Với mỗi dòng là 1 đánh giá của người dùng cho 1 phim.\n",
    "- `movies` có 9742 dòng và 3 cột. Với mỗi dòng chứa thông tin về 1 phim.\n",
    "- `tags` có 3683 dòng và 3 cột. Với mỗi dòng chứa thông tin về nhãn của 1 phim\n",
    "\n",
    "Ý nghĩa mỗi cột của các dataframe thì chúng em đã nêu ở phần mô tả dữ liệu."
   ]
  },
  {
   "cell_type": "markdown",
   "metadata": {},
   "source": [
    "##### Dữ liệu có trùng lặp không?"
   ]
  },
  {
   "cell_type": "code",
   "execution_count": 6,
   "metadata": {},
   "outputs": [
    {
     "name": "stdout",
     "output_type": "stream",
     "text": [
      "Số dòng trùng lặp của rating: 0\n",
      "Số dòng trùng lặp của movie: 0\n",
      "Số dòng trùng lặp của tag: 0\n"
     ]
    }
   ],
   "source": [
    "print(\"Số dòng trùng lặp của rating:\", ratings.duplicated().sum())\n",
    "print(\"Số dòng trùng lặp của movie:\", movies.duplicated().sum())\n",
    "print(\"Số dòng trùng lặp của tag:\", tags.duplicated().sum())"
   ]
  },
  {
   "cell_type": "markdown",
   "metadata": {},
   "source": [
    "Ở tất cả dataframe đều không có sự trùng lặp dữ liệu."
   ]
  },
  {
   "cell_type": "markdown",
   "metadata": {},
   "source": [
    "##### Dữ liệu có trống không?"
   ]
  },
  {
   "cell_type": "code",
   "execution_count": 7,
   "metadata": {},
   "outputs": [
    {
     "name": "stdout",
     "output_type": "stream",
     "text": [
      "Số dòng trống của rating: 0\n",
      "Số dòng trống của movie: 0\n",
      "Số dòng trống của tag: 0\n"
     ]
    }
   ],
   "source": [
    "print(\"Số dòng trống của rating:\", ratings.isna().all(axis=1).sum())\n",
    "print(\"Số dòng trống của movie:\", movies.isna().all(axis=1).sum())\n",
    "print(\"Số dòng trống của tag:\", tags.isna().all(axis=1).sum())"
   ]
  },
  {
   "cell_type": "markdown",
   "metadata": {},
   "source": [
    "Ở tất cả dataframe đều không có dòng trống"
   ]
  },
  {
   "cell_type": "markdown",
   "metadata": {},
   "source": [
    "#### Tiếp theo, ta sẽ tìm hiểu, phân tích các khía cạnh sâu hơn của dữ liệu"
   ]
  },
  {
   "cell_type": "markdown",
   "metadata": {},
   "source": [
    "##### Bắt đầu với việc tìm hiểu loại dữ liệu ở các cột"
   ]
  },
  {
   "cell_type": "code",
   "execution_count": 8,
   "metadata": {},
   "outputs": [
    {
     "name": "stdout",
     "output_type": "stream",
     "text": [
      "<class 'pandas.core.frame.DataFrame'>\n",
      "RangeIndex: 100836 entries, 0 to 100835\n",
      "Data columns (total 4 columns):\n",
      " #   Column     Non-Null Count   Dtype  \n",
      "---  ------     --------------   -----  \n",
      " 0   userId     100836 non-null  int64  \n",
      " 1   movieId    100836 non-null  int64  \n",
      " 2   rating     100836 non-null  float64\n",
      " 3   timestamp  100836 non-null  int64  \n",
      "dtypes: float64(1), int64(3)\n",
      "memory usage: 3.1 MB\n"
     ]
    }
   ],
   "source": [
    "ratings.info()"
   ]
  },
  {
   "cell_type": "code",
   "execution_count": 9,
   "metadata": {},
   "outputs": [
    {
     "name": "stdout",
     "output_type": "stream",
     "text": [
      "<class 'pandas.core.frame.DataFrame'>\n",
      "RangeIndex: 9742 entries, 0 to 9741\n",
      "Data columns (total 3 columns):\n",
      " #   Column   Non-Null Count  Dtype \n",
      "---  ------   --------------  ----- \n",
      " 0   movieId  9742 non-null   int64 \n",
      " 1   title    9742 non-null   object\n",
      " 2   genres   9742 non-null   object\n",
      "dtypes: int64(1), object(2)\n",
      "memory usage: 228.5+ KB\n"
     ]
    }
   ],
   "source": [
    "movies.info()"
   ]
  },
  {
   "cell_type": "code",
   "execution_count": 10,
   "metadata": {},
   "outputs": [
    {
     "name": "stdout",
     "output_type": "stream",
     "text": [
      "<class 'pandas.core.frame.DataFrame'>\n",
      "RangeIndex: 3683 entries, 0 to 3682\n",
      "Data columns (total 4 columns):\n",
      " #   Column     Non-Null Count  Dtype \n",
      "---  ------     --------------  ----- \n",
      " 0   userId     3683 non-null   int64 \n",
      " 1   movieId    3683 non-null   int64 \n",
      " 2   tag        3683 non-null   object\n",
      " 3   timestamp  3683 non-null   int64 \n",
      "dtypes: int64(3), object(1)\n",
      "memory usage: 115.2+ KB\n"
     ]
    }
   ],
   "source": [
    "tags.info()"
   ]
  },
  {
   "cell_type": "markdown",
   "metadata": {},
   "source": [
    "Chúng em sẽ không tính toán với dữ liệu về Id nên em sẽ không quan tâm đến nó.\n",
    "\n",
    "Dữ liệu timestamp thì em sẽ đổi về định dạng datetime để có thể khai thác các thông tin tiềm ẩn(như khoảng thời gian nào thì các phim thể loại nào được đánh giá nhiều,...).\n",
    "\n",
    "Về thể loại phim, vì phụ vụ việc khai thác dữ liệu sau này, em sẽ đi sâu vào tìm hiểu cũng như chuyển đổi nó về dạng ma trận one hot(True False)."
   ]
  },
  {
   "cell_type": "markdown",
   "metadata": {},
   "source": [
    "##### Chuyển đổi dữ liệu timestamp thành dạng datetime"
   ]
  },
  {
   "cell_type": "code",
   "execution_count": 11,
   "metadata": {},
   "outputs": [
    {
     "data": {
      "text/html": [
       "<div>\n",
       "<style scoped>\n",
       "    .dataframe tbody tr th:only-of-type {\n",
       "        vertical-align: middle;\n",
       "    }\n",
       "\n",
       "    .dataframe tbody tr th {\n",
       "        vertical-align: top;\n",
       "    }\n",
       "\n",
       "    .dataframe thead th {\n",
       "        text-align: right;\n",
       "    }\n",
       "</style>\n",
       "<table border=\"1\" class=\"dataframe\">\n",
       "  <thead>\n",
       "    <tr style=\"text-align: right;\">\n",
       "      <th></th>\n",
       "      <th>userId</th>\n",
       "      <th>movieId</th>\n",
       "      <th>rating</th>\n",
       "      <th>Date</th>\n",
       "    </tr>\n",
       "  </thead>\n",
       "  <tbody>\n",
       "    <tr>\n",
       "      <th>0</th>\n",
       "      <td>1</td>\n",
       "      <td>1</td>\n",
       "      <td>4.0</td>\n",
       "      <td>2000-07-30 18:45:03+00:00</td>\n",
       "    </tr>\n",
       "    <tr>\n",
       "      <th>1</th>\n",
       "      <td>1</td>\n",
       "      <td>3</td>\n",
       "      <td>4.0</td>\n",
       "      <td>2000-07-30 18:20:47+00:00</td>\n",
       "    </tr>\n",
       "    <tr>\n",
       "      <th>2</th>\n",
       "      <td>1</td>\n",
       "      <td>6</td>\n",
       "      <td>4.0</td>\n",
       "      <td>2000-07-30 18:37:04+00:00</td>\n",
       "    </tr>\n",
       "    <tr>\n",
       "      <th>3</th>\n",
       "      <td>1</td>\n",
       "      <td>47</td>\n",
       "      <td>5.0</td>\n",
       "      <td>2000-07-30 19:03:35+00:00</td>\n",
       "    </tr>\n",
       "    <tr>\n",
       "      <th>4</th>\n",
       "      <td>1</td>\n",
       "      <td>50</td>\n",
       "      <td>5.0</td>\n",
       "      <td>2000-07-30 18:48:51+00:00</td>\n",
       "    </tr>\n",
       "  </tbody>\n",
       "</table>\n",
       "</div>"
      ],
      "text/plain": [
       "   userId  movieId  rating                      Date\n",
       "0       1        1     4.0 2000-07-30 18:45:03+00:00\n",
       "1       1        3     4.0 2000-07-30 18:20:47+00:00\n",
       "2       1        6     4.0 2000-07-30 18:37:04+00:00\n",
       "3       1       47     5.0 2000-07-30 19:03:35+00:00\n",
       "4       1       50     5.0 2000-07-30 18:48:51+00:00"
      ]
     },
     "execution_count": 11,
     "metadata": {},
     "output_type": "execute_result"
    }
   ],
   "source": [
    "ratings['Date'] = pd.to_datetime(ratings['timestamp'], unit='s', utc=True)\n",
    "tags['Date'] = pd.to_datetime(tags['timestamp'], unit='s', utc=True)\n",
    "\n",
    "ratings.drop(columns=['timestamp'], inplace = True)\n",
    "tags.drop(columns=['timestamp'], inplace = True)\n",
    "\n",
    "ratings.head(5)"
   ]
  },
  {
   "cell_type": "markdown",
   "metadata": {},
   "source": [
    "Sau khi chuyển đổi, em sẽ xóa cột timestamp ban đầu đi vì đã không cần đến nó nữa."
   ]
  },
  {
   "cell_type": "markdown",
   "metadata": {},
   "source": [
    "##### Khai thác sâu về cột genres"
   ]
  },
  {
   "cell_type": "code",
   "execution_count": 12,
   "metadata": {},
   "outputs": [
    {
     "name": "stdout",
     "output_type": "stream",
     "text": [
      "20\n"
     ]
    },
    {
     "data": {
      "text/plain": [
       "{'(no genres listed)',\n",
       " 'Action',\n",
       " 'Adventure',\n",
       " 'Animation',\n",
       " 'Children',\n",
       " 'Comedy',\n",
       " 'Crime',\n",
       " 'Documentary',\n",
       " 'Drama',\n",
       " 'Fantasy',\n",
       " 'Film-Noir',\n",
       " 'Horror',\n",
       " 'IMAX',\n",
       " 'Musical',\n",
       " 'Mystery',\n",
       " 'Romance',\n",
       " 'Sci-Fi',\n",
       " 'Thriller',\n",
       " 'War',\n",
       " 'Western'}"
      ]
     },
     "execution_count": 12,
     "metadata": {},
     "output_type": "execute_result"
    }
   ],
   "source": [
    "genres = set(movies['genres'].str.split('|').explode())\n",
    "print(len(genres))\n",
    "genres"
   ]
  },
  {
   "cell_type": "markdown",
   "metadata": {},
   "source": [
    "Ta nhận thấy có tất cả 19 thể loại(vì có giá trị sai là `(no genres listed)`). Tiếp theo ta sẽ xem thử có bao nhiêu phim không xác định được thể loại."
   ]
  },
  {
   "cell_type": "code",
   "execution_count": 13,
   "metadata": {},
   "outputs": [
    {
     "name": "stdout",
     "output_type": "stream",
     "text": [
      "34\n"
     ]
    }
   ],
   "source": [
    "dropId = []\n",
    "for i in range(len(movies)):\n",
    "    if movies['genres'][i] == '(no genres listed)':\n",
    "        dropId.append(movies['movieId'][i])\n",
    "print(len(dropId))"
   ]
  },
  {
   "cell_type": "markdown",
   "metadata": {},
   "source": [
    "Chỉ có 34 phim không xác định thể loại(1 con số khá khiêm tốn). Vì vậy, để đơn giản thì chúng em quyết định sẽ xóa các phim chưa xác định thể loại khỏi các dataframe."
   ]
  },
  {
   "cell_type": "code",
   "execution_count": 14,
   "metadata": {},
   "outputs": [
    {
     "data": {
      "text/plain": [
       "(9708, 3)"
      ]
     },
     "execution_count": 14,
     "metadata": {},
     "output_type": "execute_result"
    }
   ],
   "source": [
    "movies = movies[~movies['movieId'].isin(dropId)]\n",
    "tags = tags[~tags['movieId'].isin(dropId)]\n",
    "ratings = ratings[~ratings['movieId'].isin(dropId)]\n",
    "\n",
    "movies.shape"
   ]
  },
  {
   "cell_type": "markdown",
   "metadata": {},
   "source": [
    "Ban đầu có 9742 phim, bây giờ còn 9708 phim, vậy là ta đã xóa 34 phim cần xóa."
   ]
  },
  {
   "cell_type": "markdown",
   "metadata": {},
   "source": [
    "Tiếp theo, ta sẽ chuyển các giá trị kiểu object của cột genres thành ma trận one hot để phục vụ việc tính toán, khai thác thông tin sau này."
   ]
  },
  {
   "cell_type": "code",
   "execution_count": 15,
   "metadata": {},
   "outputs": [
    {
     "data": {
      "text/html": [
       "<div>\n",
       "<style scoped>\n",
       "    .dataframe tbody tr th:only-of-type {\n",
       "        vertical-align: middle;\n",
       "    }\n",
       "\n",
       "    .dataframe tbody tr th {\n",
       "        vertical-align: top;\n",
       "    }\n",
       "\n",
       "    .dataframe thead th {\n",
       "        text-align: right;\n",
       "    }\n",
       "</style>\n",
       "<table border=\"1\" class=\"dataframe\">\n",
       "  <thead>\n",
       "    <tr style=\"text-align: right;\">\n",
       "      <th></th>\n",
       "      <th>movieId</th>\n",
       "      <th>title</th>\n",
       "      <th>Action</th>\n",
       "      <th>Adventure</th>\n",
       "      <th>Animation</th>\n",
       "      <th>Children</th>\n",
       "      <th>Comedy</th>\n",
       "      <th>Crime</th>\n",
       "      <th>Documentary</th>\n",
       "      <th>Drama</th>\n",
       "      <th>...</th>\n",
       "      <th>Film-Noir</th>\n",
       "      <th>Horror</th>\n",
       "      <th>IMAX</th>\n",
       "      <th>Musical</th>\n",
       "      <th>Mystery</th>\n",
       "      <th>Romance</th>\n",
       "      <th>Sci-Fi</th>\n",
       "      <th>Thriller</th>\n",
       "      <th>War</th>\n",
       "      <th>Western</th>\n",
       "    </tr>\n",
       "  </thead>\n",
       "  <tbody>\n",
       "    <tr>\n",
       "      <th>0</th>\n",
       "      <td>1</td>\n",
       "      <td>Toy Story (1995)</td>\n",
       "      <td>0</td>\n",
       "      <td>1</td>\n",
       "      <td>1</td>\n",
       "      <td>1</td>\n",
       "      <td>1</td>\n",
       "      <td>0</td>\n",
       "      <td>0</td>\n",
       "      <td>0</td>\n",
       "      <td>...</td>\n",
       "      <td>0</td>\n",
       "      <td>0</td>\n",
       "      <td>0</td>\n",
       "      <td>0</td>\n",
       "      <td>0</td>\n",
       "      <td>0</td>\n",
       "      <td>0</td>\n",
       "      <td>0</td>\n",
       "      <td>0</td>\n",
       "      <td>0</td>\n",
       "    </tr>\n",
       "    <tr>\n",
       "      <th>1</th>\n",
       "      <td>2</td>\n",
       "      <td>Jumanji (1995)</td>\n",
       "      <td>0</td>\n",
       "      <td>1</td>\n",
       "      <td>0</td>\n",
       "      <td>1</td>\n",
       "      <td>0</td>\n",
       "      <td>0</td>\n",
       "      <td>0</td>\n",
       "      <td>0</td>\n",
       "      <td>...</td>\n",
       "      <td>0</td>\n",
       "      <td>0</td>\n",
       "      <td>0</td>\n",
       "      <td>0</td>\n",
       "      <td>0</td>\n",
       "      <td>0</td>\n",
       "      <td>0</td>\n",
       "      <td>0</td>\n",
       "      <td>0</td>\n",
       "      <td>0</td>\n",
       "    </tr>\n",
       "    <tr>\n",
       "      <th>2</th>\n",
       "      <td>3</td>\n",
       "      <td>Grumpier Old Men (1995)</td>\n",
       "      <td>0</td>\n",
       "      <td>0</td>\n",
       "      <td>0</td>\n",
       "      <td>0</td>\n",
       "      <td>1</td>\n",
       "      <td>0</td>\n",
       "      <td>0</td>\n",
       "      <td>0</td>\n",
       "      <td>...</td>\n",
       "      <td>0</td>\n",
       "      <td>0</td>\n",
       "      <td>0</td>\n",
       "      <td>0</td>\n",
       "      <td>0</td>\n",
       "      <td>1</td>\n",
       "      <td>0</td>\n",
       "      <td>0</td>\n",
       "      <td>0</td>\n",
       "      <td>0</td>\n",
       "    </tr>\n",
       "    <tr>\n",
       "      <th>3</th>\n",
       "      <td>4</td>\n",
       "      <td>Waiting to Exhale (1995)</td>\n",
       "      <td>0</td>\n",
       "      <td>0</td>\n",
       "      <td>0</td>\n",
       "      <td>0</td>\n",
       "      <td>1</td>\n",
       "      <td>0</td>\n",
       "      <td>0</td>\n",
       "      <td>1</td>\n",
       "      <td>...</td>\n",
       "      <td>0</td>\n",
       "      <td>0</td>\n",
       "      <td>0</td>\n",
       "      <td>0</td>\n",
       "      <td>0</td>\n",
       "      <td>1</td>\n",
       "      <td>0</td>\n",
       "      <td>0</td>\n",
       "      <td>0</td>\n",
       "      <td>0</td>\n",
       "    </tr>\n",
       "    <tr>\n",
       "      <th>4</th>\n",
       "      <td>5</td>\n",
       "      <td>Father of the Bride Part II (1995)</td>\n",
       "      <td>0</td>\n",
       "      <td>0</td>\n",
       "      <td>0</td>\n",
       "      <td>0</td>\n",
       "      <td>1</td>\n",
       "      <td>0</td>\n",
       "      <td>0</td>\n",
       "      <td>0</td>\n",
       "      <td>...</td>\n",
       "      <td>0</td>\n",
       "      <td>0</td>\n",
       "      <td>0</td>\n",
       "      <td>0</td>\n",
       "      <td>0</td>\n",
       "      <td>0</td>\n",
       "      <td>0</td>\n",
       "      <td>0</td>\n",
       "      <td>0</td>\n",
       "      <td>0</td>\n",
       "    </tr>\n",
       "  </tbody>\n",
       "</table>\n",
       "<p>5 rows × 21 columns</p>\n",
       "</div>"
      ],
      "text/plain": [
       "   movieId                               title  Action  Adventure  Animation  \\\n",
       "0        1                    Toy Story (1995)       0          1          1   \n",
       "1        2                      Jumanji (1995)       0          1          0   \n",
       "2        3             Grumpier Old Men (1995)       0          0          0   \n",
       "3        4            Waiting to Exhale (1995)       0          0          0   \n",
       "4        5  Father of the Bride Part II (1995)       0          0          0   \n",
       "\n",
       "   Children  Comedy  Crime  Documentary  Drama  ...  Film-Noir  Horror  IMAX  \\\n",
       "0         1       1      0            0      0  ...          0       0     0   \n",
       "1         1       0      0            0      0  ...          0       0     0   \n",
       "2         0       1      0            0      0  ...          0       0     0   \n",
       "3         0       1      0            0      1  ...          0       0     0   \n",
       "4         0       1      0            0      0  ...          0       0     0   \n",
       "\n",
       "   Musical  Mystery  Romance  Sci-Fi  Thriller  War  Western  \n",
       "0        0        0        0       0         0    0        0  \n",
       "1        0        0        0       0         0    0        0  \n",
       "2        0        0        1       0         0    0        0  \n",
       "3        0        0        1       0         0    0        0  \n",
       "4        0        0        0       0         0    0        0  \n",
       "\n",
       "[5 rows x 21 columns]"
      ]
     },
     "execution_count": 15,
     "metadata": {},
     "output_type": "execute_result"
    }
   ],
   "source": [
    "movies['Genres_Split'] = movies['genres'].str.split('|')\n",
    "genres_exploded = movies.explode('Genres_Split')\n",
    "\n",
    "one_hot = pd.get_dummies(genres_exploded['Genres_Split'])\n",
    "movies = movies.join(one_hot.groupby(one_hot.index).sum())\n",
    "movies.drop(columns=['Genres_Split', 'genres'], inplace=True)\n",
    "\n",
    "movies.head(5)"
   ]
  },
  {
   "cell_type": "markdown",
   "metadata": {},
   "source": [
    "Vậy ta đã thêm các cột ứng với ma trận one hot, 1 nếu đó là thể loại của phim, 0 nếu ngược lại. Cũng như xóa cột genres ban đầu."
   ]
  },
  {
   "cell_type": "markdown",
   "metadata": {},
   "source": [
    "##### Tiếp theo ta sẽ tìm hiểu các giá trị thống kê đối với dữ liệu"
   ]
  },
  {
   "cell_type": "code",
   "execution_count": 28,
   "metadata": {},
   "outputs": [
    {
     "name": "stdout",
     "output_type": "stream",
     "text": [
      "              userId        movieId         rating\n",
      "count  100789.000000  100789.000000  100789.000000\n",
      "mean      326.123307   19373.299299       3.501563\n",
      "std       182.603725   35420.417225       1.042448\n",
      "min         1.000000       1.000000       0.500000\n",
      "25%       177.000000    1199.000000       3.000000\n",
      "50%       325.000000    2990.000000       3.500000\n",
      "75%       477.000000    8014.000000       4.000000\n",
      "max       610.000000  193609.000000       5.000000\n",
      "\n",
      "\n",
      "\n",
      "1996-03-29 18:36:55+00:00     2018-09-24 14:27:30+00:00\n"
     ]
    }
   ],
   "source": [
    "print(ratings.describe())\n",
    "print('\\n\\n')\n",
    "print(ratings['Date'].min(), \"   \", ratings['Date'].max())"
   ]
  },
  {
   "cell_type": "markdown",
   "metadata": {},
   "source": [
    "Với `ratings`, ta quan tâm đến vột rating, ta thấy các giá trị hoàn toàn bình thường: nhỏ nhất là 0.5, lớn nhất là 5(hoàn toàn phù hợp với mô tả dữ liệu), userId và movieId thì chỉ là các Id định danh nên ta sẽ không để tâm nhiều đến chúng, về dữ liệu ngày tháng, các giá trị min(max) của nó đều hoàn toàn bình thường"
   ]
  },
  {
   "cell_type": "code",
   "execution_count": 20,
   "metadata": {},
   "outputs": [
    {
     "name": "stdout",
     "output_type": "stream",
     "text": [
      "9703\n"
     ]
    },
    {
     "data": {
      "text/plain": [
       "3382            Gross Anatomy (a.k.a. A Cut Above) (1989)\n",
       "2611                              Madame Sousatzka (1988)\n",
       "6604                                        Saw IV (2007)\n",
       "8593    Asterix: The Land of the Gods (Astérix: Le dom...\n",
       "9491                                         CHiPS (2017)\n",
       "Name: title, dtype: object"
      ]
     },
     "execution_count": 20,
     "metadata": {},
     "output_type": "execute_result"
    }
   ],
   "source": [
    "print(len(set(movies['title'])))\n",
    "movies['title'].sample(5)"
   ]
  },
  {
   "cell_type": "markdown",
   "metadata": {},
   "source": [
    "Mỗi phim có 1 tên khác nhau, điều này là hoàn toàn bình thường. Đối với ma trận one hot, vì chúng em mới xử lí, xây dựng nó và đã kiểm tra(có niềm tin rằng) nó sẽ không có sai."
   ]
  },
  {
   "cell_type": "code",
   "execution_count": 30,
   "metadata": {},
   "outputs": [
    {
     "name": "stdout",
     "output_type": "stream",
     "text": [
      "1589\n",
      "\n",
      "\n",
      "\n",
      "1820         Gambling\n",
      "2819        Las Vegas\n",
      "3200           clever\n",
      "712         hilarious\n",
      "3351    assassination\n",
      "Name: tag, dtype: object\n",
      "\n",
      "\n",
      "\n",
      "2006-01-13 19:09:12+00:00     2018-09-16 11:50:03+00:00\n"
     ]
    }
   ],
   "source": [
    "print(len(set(tags['tag'])))\n",
    "print('\\n\\n')\n",
    "print(tags['tag'].sample(5))\n",
    "print('\\n\\n')\n",
    "print(tags['Date'].min(), '   ', tags['Date'].max())"
   ]
  },
  {
   "cell_type": "markdown",
   "metadata": {},
   "source": [
    "Các giá trị nhãn là do người dùng gán cho phim nên nó hoàn toàn có thể trùng lặp, 1589 giá trị riêng biệt là hoàn toàn bình thường. Các giá trị min(max) của ngày tháng cũng không có gì bất thường."
   ]
  },
  {
   "cell_type": "markdown",
   "metadata": {},
   "source": [
    "## IV. Đặt câu hỏi có ý nghĩa và trả lời  <a id=\"iv\"></a>"
   ]
  },
  {
   "cell_type": "markdown",
   "metadata": {},
   "source": [
    "### 1. Câu hỏi 1 <a id=\"iv1\"></a>"
   ]
  },
  {
   "cell_type": "markdown",
   "metadata": {},
   "source": [
    "### 2. Câu hỏi 2 <a id=\"iv2\"></a>"
   ]
  },
  {
   "cell_type": "markdown",
   "metadata": {},
   "source": [
    "### 3. Câu hỏi 3 <a id=\"iv3\"></a>"
   ]
  },
  {
   "cell_type": "markdown",
   "metadata": {},
   "source": [
    "## V. Nhận xét quá trình làm đồ án  <a id=\"v\"></a>"
   ]
  },
  {
   "cell_type": "markdown",
   "metadata": {},
   "source": [
    "### 1. Thành viên 1 <a id=\"v1\"></a>"
   ]
  },
  {
   "cell_type": "markdown",
   "metadata": {},
   "source": [
    "### 2. Thành viên 2 <a id=\"v2\"></a>"
   ]
  },
  {
   "cell_type": "markdown",
   "metadata": {},
   "source": [
    "### 3. Thành viên 3 <a id=\"v3\"></a>"
   ]
  },
  {
   "cell_type": "markdown",
   "metadata": {},
   "source": [
    "### 4. Ý kiến nhóm <a id=\"v4\"></a>"
   ]
  },
  {
   "cell_type": "markdown",
   "metadata": {},
   "source": [
    "## Tài liệu tham khảo  <a id=\"tltk\"></a>"
   ]
  }
 ],
 "metadata": {
  "kernelspec": {
   "display_name": "base",
   "language": "python",
   "name": "python3"
  },
  "language_info": {
   "codemirror_mode": {
    "name": "ipython",
    "version": 3
   },
   "file_extension": ".py",
   "mimetype": "text/x-python",
   "name": "python",
   "nbconvert_exporter": "python",
   "pygments_lexer": "ipython3",
   "version": "3.12.7"
  }
 },
 "nbformat": 4,
 "nbformat_minor": 2
}
